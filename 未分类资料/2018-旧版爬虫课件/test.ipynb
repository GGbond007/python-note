{
 "cells": [
  {
   "cell_type": "code",
   "execution_count": 5,
   "id": "852fbb0a",
   "metadata": {},
   "outputs": [],
   "source": [
    "import requests\n",
    "#指定url\n",
    "url = 'https://passport.jd.com/uc/login'\n",
    "\n",
    "#发起get请求:get方法会返回请求成功的相应对象\n",
    "response = requests.get(url=url)\n",
    "\n",
    "#获取响应中的数据值:text可以获取响应对象中字符串形式的页面数据\n",
    "page_data = response.text\n",
    "\n",
    "#持久化操作\n",
    "with open('./jd.html','w',encoding='utf-8') as fp:\n",
    "    fp.write(page_data)"
   ]
  },
  {
   "cell_type": "code",
   "execution_count": null,
   "id": "fa4f3f82",
   "metadata": {},
   "outputs": [],
   "source": []
  }
 ],
 "metadata": {
  "kernelspec": {
   "display_name": "Python 3 (ipykernel)",
   "language": "python",
   "name": "python3"
  },
  "language_info": {
   "codemirror_mode": {
    "name": "ipython",
    "version": 3
   },
   "file_extension": ".py",
   "mimetype": "text/x-python",
   "name": "python",
   "nbconvert_exporter": "python",
   "pygments_lexer": "ipython3",
   "version": "3.9.7"
  }
 },
 "nbformat": 4,
 "nbformat_minor": 5
}
