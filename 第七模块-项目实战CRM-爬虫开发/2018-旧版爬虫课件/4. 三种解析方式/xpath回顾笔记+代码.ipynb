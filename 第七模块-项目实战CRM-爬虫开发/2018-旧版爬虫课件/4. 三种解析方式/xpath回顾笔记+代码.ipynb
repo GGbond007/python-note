{
 "cells": [
  {
   "cell_type": "markdown",
   "metadata": {},
   "source": [
    "### xpath在爬虫中的使用流程：\n",
    "    - 1.下载：pip install lxml\n",
    "    - 2.导包：from lxml import etree\n",
    "    - 3.创建etree对象进行指定数据的解析\n",
    "        - 本地：etree=etree.parse('本地文件路径')\n",
    "               etree.xpath('xpath表达式')\n",
    "        - 网络：etree=etree.HTML('网络请求到的页面数据')\n",
    "               etree.xpath('xpath表达式')\n",
    "    \n"
   ]
  },
  {
   "cell_type": "markdown",
   "metadata": {},
   "source": [
    "#### 常用的xpath表达式：\n",
    "属性定位：\n",
    "    #找到class属性值为song的div标签\n",
    "    //div[@class=\"song\"] \n",
    "层级&索引定位：\n",
    "    #找到class属性值为tang的div的直系子标签ul下的第二个子标签li下的直系子标签a\n",
    "    //div[@class=\"tang\"]/ul/li[2]/a\n",
    "逻辑运算：\n",
    "    #找到href属性值为空且class属性值为du的a标签\n",
    "    //a[@href=\"\" and @class=\"du\"]\n",
    "模糊匹配：\n",
    "    //div[contains(@class, \"ng\")]\n",
    "    //div[starts-with(@class, \"ta\")]\n",
    "取文本：\n",
    "    # /表示获取某个标签下的文本内容\n",
    "    # //表示获取某个标签下的文本内容和所有子标签下的文本内容\n",
    "    //div[@class=\"song\"]/p[1]/text()\n",
    "    //div[@class=\"tang\"]//text()\n",
    "取属性：\n",
    "    //div[@class=\"tang\"]//li[2]/a/@href"
   ]
  },
  {
   "cell_type": "code",
   "execution_count": 11,
   "metadata": {},
   "outputs": [
    {
     "data": {
      "text/plain": [
       "['http://www.163.com']"
      ]
     },
     "execution_count": 11,
     "metadata": {},
     "output_type": "execute_result"
    }
   ],
   "source": [
    "from lxml import etree\n",
    "\n",
    "#xpath函数返回的总是一个列表\n",
    "\n",
    "#创建etree对象进行指定数据解析\n",
    "tree = etree.parse('./test.html')\n",
    "#属性定位：根据指定的属性定位到指定的节点标签\n",
    "#tree.xpath('//div[@class=\"song\"] ')\n",
    "#层级索引定位\n",
    "#tree.xpath('//div[@class=\"tang\"]/ul/li[2]/a')\n",
    "\n",
    "#逻辑定位\n",
    "#tree.xpath('//a[@href=\"\" and @class=\"du\"]')\n",
    "\n",
    "#模糊查询\n",
    "#tree.xpath('//div[contains(@class, \"ng\")]')\n",
    "#tree.xpath('//div[starts-with(@class, \"ta\")]')\n",
    "\n",
    "#取文本\n",
    "#tree.xpath('//div[@class=\"song\"]/p[1]/text()') #/text（）获取当前标签中直系存储的文本数据\n",
    "#tree.xpath('//div[@class=\"tang\"]//text()')   #//text()获取某一个标签下所有子标签中存储的文本数据\n",
    "\n",
    "\n",
    "#取属性\n",
    "tree.xpath('//div[@class=\"tang\"]//li[2]/a/@href')"
   ]
  },
  {
   "cell_type": "markdown",
   "metadata": {},
   "source": [
    "- xpath插件：就可以直接将xpath表达式作用于浏览器的网页当中\n",
    "- 安装：更多工具-》扩展程序-》开启右上角的开发者模式-》xpath插件拖动到页面即可\n",
    "- 快捷键：\n",
    "    - 开启和关闭xpath插件：ctrol+shitf+x"
   ]
  },
  {
   "cell_type": "code",
   "execution_count": null,
   "metadata": {},
   "outputs": [],
   "source": []
  },
  {
   "cell_type": "code",
   "execution_count": null,
   "metadata": {},
   "outputs": [],
   "source": []
  },
  {
   "cell_type": "code",
   "execution_count": null,
   "metadata": {},
   "outputs": [],
   "source": []
  }
 ],
 "metadata": {
  "kernelspec": {
   "display_name": "Python 3 (ipykernel)",
   "language": "python",
   "name": "python3"
  },
  "language_info": {
   "codemirror_mode": {
    "name": "ipython",
    "version": 3
   },
   "file_extension": ".py",
   "mimetype": "text/x-python",
   "name": "python",
   "nbconvert_exporter": "python",
   "pygments_lexer": "ipython3",
   "version": "3.9.7"
  }
 },
 "nbformat": 4,
 "nbformat_minor": 2
}
