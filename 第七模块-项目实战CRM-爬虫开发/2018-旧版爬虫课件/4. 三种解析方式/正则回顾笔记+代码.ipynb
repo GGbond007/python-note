{
 "cells": [
  {
   "cell_type": "code",
   "execution_count": 45,
   "metadata": {},
   "outputs": [],
   "source": [
    "import re"
   ]
  },
  {
   "cell_type": "code",
   "execution_count": 47,
   "metadata": {},
   "outputs": [
    {
     "data": {
      "text/plain": [
       "'python'"
      ]
     },
     "execution_count": 47,
     "metadata": {},
     "output_type": "execute_result"
    }
   ],
   "source": [
    "#提取出python\n",
    "key=\"javapythonc++php\"\n",
    "re.findall('python',key)[0]"
   ]
  },
  {
   "cell_type": "code",
   "execution_count": 61,
   "metadata": {},
   "outputs": [
    {
     "data": {
      "text/plain": [
       "'<h1>hello world<h1>'"
      ]
     },
     "execution_count": 61,
     "metadata": {},
     "output_type": "execute_result"
    }
   ],
   "source": [
    "#提取出hello world\n",
    "key=\"<html><h1>hello world<h1></html>\"\n",
    "re.findall('<h1>hello world<h1>',key)[0]"
   ]
  },
  {
   "cell_type": "code",
   "execution_count": 53,
   "metadata": {},
   "outputs": [
    {
     "data": {
      "text/plain": [
       "['170']"
      ]
     },
     "execution_count": 53,
     "metadata": {},
     "output_type": "execute_result"
    }
   ],
   "source": [
    "#提取170\n",
    "string = '我喜欢身高为170的女孩'\n",
    "re.findall('\\d+',string)"
   ]
  },
  {
   "cell_type": "code",
   "execution_count": 55,
   "metadata": {},
   "outputs": [
    {
     "data": {
      "text/plain": [
       "['http', 'https']"
      ]
     },
     "execution_count": 55,
     "metadata": {},
     "output_type": "execute_result"
    }
   ],
   "source": [
    "#提取出http://和https://\n",
    "key='http://www.baidu.com and https://boob.com'\n",
    "re.findall('https{0,1}',key)"
   ]
  },
  {
   "cell_type": "code",
   "execution_count": 57,
   "metadata": {},
   "outputs": [
    {
     "data": {
      "text/plain": [
       "['hit.']"
      ]
     },
     "execution_count": 57,
     "metadata": {},
     "output_type": "execute_result"
    }
   ],
   "source": [
    "#提取出hit. \n",
    "key='bobo@hit.edu.com'\n",
    "re.findall('h.*?\\.',key) #贪婪模式：根据正则表达式尽可能多的提取出数据"
   ]
  },
  {
   "cell_type": "code",
   "execution_count": 58,
   "metadata": {},
   "outputs": [
    {
     "data": {
      "text/plain": [
       "['saas', 'sas']"
      ]
     },
     "execution_count": 58,
     "metadata": {},
     "output_type": "execute_result"
    }
   ],
   "source": [
    "#匹配sas和saas\n",
    "key='saas and sas and saaas'\n",
    "re.findall('sa{1,2}s',key)"
   ]
  },
  {
   "cell_type": "code",
   "execution_count": 59,
   "metadata": {},
   "outputs": [
    {
     "data": {
      "text/plain": [
       "['i love you very much', 'i love she', 'i love her']"
      ]
     },
     "execution_count": 59,
     "metadata": {},
     "output_type": "execute_result"
    }
   ],
   "source": [
    "#匹配出i开头的行   re.S(基于单行)  re.M（基于多行）\n",
    "string = '''fall in love with you\n",
    "i love you very much\n",
    "i love she\n",
    "i love her'''\n",
    "re.findall('^i.*',string,re.M)"
   ]
  },
  {
   "cell_type": "code",
   "execution_count": 60,
   "metadata": {},
   "outputs": [
    {
     "data": {
      "text/plain": [
       "['<div>静夜思\\n窗前明月光\\n疑是地上霜\\n举头望明月\\n低头思故乡\\n</div>']"
      ]
     },
     "execution_count": 60,
     "metadata": {},
     "output_type": "execute_result"
    }
   ],
   "source": [
    "#匹配全部行\n",
    "string = \"\"\"<div>静夜思\n",
    "窗前明月光\n",
    "疑是地上霜\n",
    "举头望明月\n",
    "低头思故乡\n",
    "</div>\"\"\"\n",
    "re.findall('<div>.*</div>',string,re.S)"
   ]
  }
 ],
 "metadata": {
  "kernelspec": {
   "display_name": "Python 3",
   "language": "python",
   "name": "python3"
  },
  "language_info": {
   "codemirror_mode": {
    "name": "ipython",
    "version": 3
   },
   "file_extension": ".py",
   "mimetype": "text/x-python",
   "name": "python",
   "nbconvert_exporter": "python",
   "pygments_lexer": "ipython3",
   "version": "3.6.5"
  }
 },
 "nbformat": 4,
 "nbformat_minor": 2
}
