{
 "cells": [
  {
   "cell_type": "markdown",
   "metadata": {},
   "source": [
    "### requests模块高级：\n",
    "    - cookie：\n",
    "        基于用户的用户数据\n",
    "        - 需求：爬取张三用户的豆瓣网的个人主页页面数据\n",
    "    - cookie作用：服务器端使用cookie来记录客户端的状态信息。\n",
    "    实现流程：\n",
    "        1.执行登录操作（获取cookie）\n",
    "        2.在发起个人主页请求时，需要将cookie携带到该请求中\n",
    "        注意：session对象：发送请求（会将cookie对象进行自动存储）\n",
    "    - 代理："
   ]
  },
  {
   "cell_type": "code",
   "execution_count": 7,
   "metadata": {},
   "outputs": [],
   "source": [
    "#问题：没有获取个人主页的页面数据\n",
    "#原因：爬虫程序没有严格遵从浏览器的请求流程\n",
    "import requests\n",
    "\n",
    "#1.指定url\n",
    "url = 'https://www.douban.com/people/185687620/'\n",
    "headers={\n",
    "    'User-Agent': 'Mozilla/5.0 (Macintosh; Intel Mac OS X 10_12_0) AppleWebKit/537.36 (KHTML, like Gecko) Chrome/69.0.3497.100 Safari/537.36',\n",
    "    }\n",
    "#2.发起请求\n",
    "response = requests.get(url=url,headers=headers)\n",
    "\n",
    "#3.获取页面数据\n",
    "page_text = response.text\n",
    "\n",
    "#4.持久化存储\n",
    "with open('./douban.html','w',encoding='utf-8') as fp:\n",
    "    fp.write(page_text)"
   ]
  },
  {
   "cell_type": "code",
   "execution_count": 4,
   "metadata": {},
   "outputs": [],
   "source": [
    "import requests\n",
    "\n",
    "session = requests.session()\n",
    "#1.发起登录请求：将cookie获取，切存储到session对象中\n",
    "login_url = 'https://accounts.douban.com/login'\n",
    "data = {\n",
    "    \"source\": \"None\",\n",
    "    \"redir\": \"https://www.douban.com/people/185687620/\",\n",
    "    \"form_email\": \"15027900535\",\n",
    "    \"form_password\": \"bobo@15027900535\",\n",
    "    \"login\": \"登录\",\n",
    "}\n",
    "headers={\n",
    "    'User-Agent': 'Mozilla/5.0 (Macintosh; Intel Mac OS X 10_12_0) AppleWebKit/537.36 (KHTML, like Gecko) Chrome/69.0.3497.100 Safari/537.36',\n",
    "    }\n",
    "#使用session发起post请求\n",
    "login_response = session.post(url=login_url,data=data,headers=headers)\n",
    "\n",
    "#2.对个人主页发起请求（session（cookie）），获取响应页面数据\n",
    "url = 'https://www.douban.com/people/185687620/'\n",
    "response = session.get(url=url,headers=headers)\n",
    "page_text = response.text\n",
    "\n",
    "with open('./douban110.html','w',encoding='utf-8') as fp:\n",
    "    fp.write(page_text)"
   ]
  },
  {
   "cell_type": "code",
   "execution_count": null,
   "metadata": {},
   "outputs": [],
   "source": []
  },
  {
   "cell_type": "code",
   "execution_count": null,
   "metadata": {},
   "outputs": [],
   "source": []
  },
  {
   "cell_type": "code",
   "execution_count": null,
   "metadata": {},
   "outputs": [],
   "source": []
  },
  {
   "cell_type": "code",
   "execution_count": null,
   "metadata": {},
   "outputs": [],
   "source": []
  },
  {
   "cell_type": "code",
   "execution_count": null,
   "metadata": {},
   "outputs": [],
   "source": []
  },
  {
   "cell_type": "markdown",
   "metadata": {},
   "source": [
    "### 代理操作：\n",
    "    - 1.代理：第三方代理本体执行相关的事物。生活：代购，微商，中介\n",
    "    - 2.为什么要使用代理？\n",
    "        - 反爬操作。\n",
    "        - 反反爬手段\n",
    "    - 3.分类：\n",
    "        - 正向代理：代替客户端获取数据\n",
    "        - 反向代理：代理服务器端提供数据\n",
    "    - 4.免费代理ip的网站提供商：\n",
    "        - www.goubanjia.com\n",
    "        - 快代理\n",
    "        - 西祠代理\n",
    "    - 5.代码："
   ]
  },
  {
   "cell_type": "code",
   "execution_count": 34,
   "metadata": {},
   "outputs": [],
   "source": [
    "import requests\n",
    "\n",
    "url = 'http://www.baidu.com/s?ie=utf-8&wd=ip'\n",
    "\n",
    "headers={\n",
    "    'User-Agent': 'Mozilla/5.0 (Macintosh; Intel Mac OS X 10_12_0) AppleWebKit/537.36 (KHTML, like Gecko) Chrome/69.0.3497.100 Safari/537.36',\n",
    "    }\n",
    "\n",
    "#将代理ip封装到字典\n",
    "proxy = { \n",
    "    'http':'77.73.69.120:3128'\n",
    "}\n",
    "#更换网路IP\n",
    "response = requests.get(url=url,proxies=proxy,headers=headers)\n",
    "\n",
    "with open('./daili.html','w',encoding='utf-8') as fp:\n",
    "    fp.write(response.text)\n",
    "    \n",
    "    "
   ]
  },
  {
   "cell_type": "code",
   "execution_count": null,
   "metadata": {},
   "outputs": [],
   "source": []
  },
  {
   "cell_type": "code",
   "execution_count": null,
   "metadata": {},
   "outputs": [],
   "source": []
  },
  {
   "cell_type": "code",
   "execution_count": null,
   "metadata": {},
   "outputs": [],
   "source": []
  },
  {
   "cell_type": "code",
   "execution_count": null,
   "metadata": {},
   "outputs": [],
   "source": []
  },
  {
   "cell_type": "code",
   "execution_count": null,
   "metadata": {},
   "outputs": [],
   "source": []
  },
  {
   "cell_type": "code",
   "execution_count": null,
   "metadata": {},
   "outputs": [],
   "source": []
  },
  {
   "cell_type": "code",
   "execution_count": null,
   "metadata": {},
   "outputs": [],
   "source": []
  }
 ],
 "metadata": {
  "kernelspec": {
   "display_name": "Python 3",
   "language": "python",
   "name": "python3"
  },
  "language_info": {
   "codemirror_mode": {
    "name": "ipython",
    "version": 3
   },
   "file_extension": ".py",
   "mimetype": "text/x-python",
   "name": "python",
   "nbconvert_exporter": "python",
   "pygments_lexer": "ipython3",
   "version": "3.6.5"
  }
 },
 "nbformat": 4,
 "nbformat_minor": 2
}
